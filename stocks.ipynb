{
 "cells": [
  {
   "cell_type": "code",
   "execution_count": 2,
   "metadata": {},
   "outputs": [],
   "source": [
    "import numpy as np\r\n",
    "import tensorflow as tf\r\n",
    "import matplotlib.pyplot as plt\r\n",
    "import pandas as pd\r\n",
    "from pandas_datareader import data as pdr\r\n",
    "import yfinance as yfin\r\n",
    "yfin.pdr_override()\r\n",
    "import datetime as dt\r\n",
    "from sklearn.preprocessing import MinMaxScaler\r\n",
    "from tensorflow.keras.layers import Dense, Dropout, LSTM\r\n",
    "from tensorflow.keras.models import Sequential\r\n",
    "import time\r\n"
   ]
  },
  {
   "cell_type": "code",
   "execution_count": 3,
   "metadata": {},
   "outputs": [],
   "source": [
    "company='FB' # Facebook ticker\r\n",
    "start=dt.datetime(2020,1,1)\r\n",
    "end=dt.date.today()\r\n"
   ]
  },
  {
   "cell_type": "code",
   "execution_count": 4,
   "metadata": {},
   "outputs": [
    {
     "name": "stdout",
     "output_type": "stream",
     "text": [
      "[*********************100%***********************]  1 of 1 completed\n",
      "                  Open        High         Low       Close   Adj Close  \\\n",
      "Date                                                                     \n",
      "2020-01-02  206.750000  209.789993  206.270004  209.779999  209.779999   \n",
      "2020-01-03  207.210007  210.399994  206.949997  208.669998  208.669998   \n",
      "2020-01-06  206.699997  212.779999  206.520004  212.600006  212.600006   \n",
      "2020-01-07  212.820007  214.580002  211.750000  213.059998  213.059998   \n",
      "2020-01-08  213.000000  216.240005  212.610001  215.220001  215.220001   \n",
      "...                ...         ...         ...         ...         ...   \n",
      "2021-06-30  352.170013  352.920013  347.170013  347.709991  347.709991   \n",
      "2021-07-01  346.820007  354.670013  346.500000  354.390015  354.390015   \n",
      "2021-07-02  355.100006  356.440002  352.619995  354.700012  354.700012   \n",
      "2021-07-06  356.500000  358.790009  349.179993  352.779999  352.779999   \n",
      "2021-07-07  355.260010  356.489990  350.000000  350.489990  350.489990   \n",
      "\n",
      "              Volume  \n",
      "Date                  \n",
      "2020-01-02  12077100  \n",
      "2020-01-03  11188400  \n",
      "2020-01-06  17058900  \n",
      "2020-01-07  14912400  \n",
      "2020-01-08  13475000  \n",
      "...              ...  \n",
      "2021-06-30  15107500  \n",
      "2021-07-01  17137000  \n",
      "2021-07-02  11521300  \n",
      "2021-07-06  13488500  \n",
      "2021-07-07  14214400  \n",
      "\n",
      "[381 rows x 6 columns]\n"
     ]
    }
   ],
   "source": [
    "df=pdr.get_data_yahoo(company,start,end)\r\n",
    "print(df)"
   ]
  },
  {
   "cell_type": "code",
   "execution_count": 5,
   "metadata": {},
   "outputs": [],
   "source": [
    "#Prepare data\r\n",
    "scaler=MinMaxScaler(feature_range=(0,1))\r\n",
    "scaled_data=scaler.fit_transform(df['Close'].values.reshape(-1,1))\r\n",
    "#print(scaled_data)\r\n",
    "prediction_days=60\r\n",
    "x_train=[]\r\n",
    "y_train=[]\r\n",
    "\r\n",
    "for x in range(prediction_days,len(scaled_data)):\r\n",
    "    x_train.append(scaled_data[x-prediction_days:x,0])\r\n",
    "    y_train.append(scaled_data[x,0])\r\n",
    "x_train, y_train = np.array(x_train), np.array(y_train)\r\n",
    "x_train= np.reshape(x_train,(x_train.shape[0],x_train.shape[1],1))\r\n"
   ]
  },
  {
   "cell_type": "code",
   "execution_count": 6,
   "metadata": {},
   "outputs": [],
   "source": [
    "#build the model\r\n",
    "model=Sequential()\r\n",
    "model.add(LSTM(units=50,return_sequences=True,input_shape=(x_train.shape[1],1)))\r\n",
    "model.add(Dropout(0.2))\r\n",
    "model.add(LSTM(units=50,return_sequences=True))\r\n",
    "model.add(Dropout(0.2))\r\n",
    "model.add(LSTM(units=50))\r\n",
    "model.add(Dropout(0.2))\r\n",
    "model.add(Dense(units=1))"
   ]
  },
  {
   "cell_type": "code",
   "execution_count": 7,
   "metadata": {},
   "outputs": [
    {
     "name": "stdout",
     "output_type": "stream",
     "text": [
      "Epoch 1/25\n",
      "11/11 [==============================] - 8s 57ms/step - loss: 0.1246\n",
      "Epoch 2/25\n",
      "11/11 [==============================] - 1s 54ms/step - loss: 0.0303\n",
      "Epoch 3/25\n",
      "11/11 [==============================] - 1s 51ms/step - loss: 0.0161\n",
      "Epoch 4/25\n",
      "11/11 [==============================] - 1s 50ms/step - loss: 0.0120\n",
      "Epoch 5/25\n",
      "11/11 [==============================] - 1s 51ms/step - loss: 0.0093\n",
      "Epoch 6/25\n",
      "11/11 [==============================] - 1s 50ms/step - loss: 0.0080\n",
      "Epoch 7/25\n",
      "11/11 [==============================] - 1s 51ms/step - loss: 0.0092\n",
      "Epoch 8/25\n",
      "11/11 [==============================] - 1s 51ms/step - loss: 0.0083\n",
      "Epoch 9/25\n",
      "11/11 [==============================] - 1s 53ms/step - loss: 0.0079\n",
      "Epoch 10/25\n",
      "11/11 [==============================] - 1s 52ms/step - loss: 0.0074\n",
      "Epoch 11/25\n",
      "11/11 [==============================] - 1s 58ms/step - loss: 0.0070\n",
      "Epoch 12/25\n",
      "11/11 [==============================] - 1s 52ms/step - loss: 0.0077\n",
      "Epoch 13/25\n",
      "11/11 [==============================] - 1s 53ms/step - loss: 0.0066\n",
      "Epoch 14/25\n",
      "11/11 [==============================] - 1s 52ms/step - loss: 0.0088\n",
      "Epoch 15/25\n",
      "11/11 [==============================] - 1s 53ms/step - loss: 0.0066\n",
      "Epoch 16/25\n",
      "11/11 [==============================] - 1s 53ms/step - loss: 0.0071\n",
      "Epoch 17/25\n",
      "11/11 [==============================] - 1s 59ms/step - loss: 0.0070\n",
      "Epoch 18/25\n",
      "11/11 [==============================] - 1s 50ms/step - loss: 0.0080\n",
      "Epoch 19/25\n",
      "11/11 [==============================] - 1s 53ms/step - loss: 0.0064\n",
      "Epoch 20/25\n",
      "11/11 [==============================] - 1s 49ms/step - loss: 0.0063\n",
      "Epoch 21/25\n",
      "11/11 [==============================] - 1s 54ms/step - loss: 0.0070\n",
      "Epoch 22/25\n",
      "11/11 [==============================] - 1s 48ms/step - loss: 0.0096\n",
      "Epoch 23/25\n",
      "11/11 [==============================] - 1s 48ms/step - loss: 0.0056\n",
      "Epoch 24/25\n",
      "11/11 [==============================] - 1s 49ms/step - loss: 0.0062\n",
      "Epoch 25/25\n",
      "11/11 [==============================] - 1s 49ms/step - loss: 0.0100\n"
     ]
    },
    {
     "data": {
      "text/plain": [
       "<tensorflow.python.keras.callbacks.History at 0x251a83a09a0>"
      ]
     },
     "execution_count": 7,
     "metadata": {},
     "output_type": "execute_result"
    }
   ],
   "source": [
    "model.compile(optimizer='adam', loss='mean_squared_error')\r\n",
    "model.fit(x_train,y_train,epochs=25,batch_size=32)"
   ]
  },
  {
   "cell_type": "code",
   "execution_count": 8,
   "metadata": {},
   "outputs": [
    {
     "name": "stdout",
     "output_type": "stream",
     "text": [
      "[*********************100%***********************]  1 of 1 completed\n"
     ]
    }
   ],
   "source": [
    "#load testing data\r\n",
    "test_start=start\r\n",
    "test_end=end\r\n",
    "test_df=pdr.get_data_yahoo(company,test_start,test_end)\r\n",
    "real_prices= test_df['Close'].values\r\n",
    "total_dataset= pd.concat((df['Close'],test_df['Close']),axis=0)\r\n",
    "model_inputs =total_dataset[len(total_dataset)-len(test_df)-prediction_days:].values\r\n",
    "model_inputs=model_inputs.reshape(-1,1)\r\n",
    "model_inputs=scaler.transform(model_inputs)\r\n",
    "\r\n",
    "x_test =[]\r\n",
    "\r\n",
    "for x in range(prediction_days,len(model_inputs)):\r\n",
    "    x_test.append(model_inputs[x-prediction_days:x,0])\r\n",
    "    \r\n",
    "x_test=np.array(x_test)\r\n",
    "x_test=np.reshape(x_test,(x_test.shape[0],x_test.shape[1],1))\r\n",
    "prediction_prices=model.predict(x_test)\r\n",
    "prediction_prices=scaler.inverse_transform(prediction_prices)\r\n"
   ]
  },
  {
   "cell_type": "code",
   "execution_count": 9,
   "metadata": {},
   "outputs": [
    {
     "data": {
      "image/png": "[encoded data removed]",
      "text/plain": [
       "<Figure size 432x288 with 1 Axes>"
      ]
     },
     "metadata": {
      "needs_background": "light"
     },
     "output_type": "display_data"
    }
   ],
   "source": [
    "#Plot test predicitions\r\n",
    "plt.plot(real_prices,color='black',label=f\"Acutal {company} price\")\r\n",
    "plt.plot(prediction_prices,color='green',label=f\"Predicted {company} price\")\r\n",
    "plt.title(f\"{company} Share price\")\r\n",
    "plt.xlabel('Time')\r\n",
    "plt.ylabel(f\"{company} Share price\")\r\n",
    "plt.legend()\r\n",
    "plt.show()\r\n"
   ]
  },
  {
   "cell_type": "code",
   "execution_count": 10,
   "metadata": {},
   "outputs": [
    {
     "name": "stdout",
     "output_type": "stream",
     "text": [
      "WARNING:tensorflow:Model was constructed with shape (None, 60, 1) for input KerasTensor(type_spec=TensorSpec(shape=(None, 60, 1), dtype=tf.float32, name='lstm_input'), name='lstm_input', description=\"created by layer 'lstm_input'\"), but it was called on an input with incompatible shape (None, 59, 1).\n",
      "Prediction: 342.7389221191406\n"
     ]
    }
   ],
   "source": [
    "real_data=[model_inputs[len(model_inputs)+1 - prediction_days:len(model_inputs+1),0]]\r\n",
    "real_data=np.array(real_data)\r\n",
    "real_data=np.reshape(real_data,(real_data.shape[0],real_data.shape[1],1))\r\n",
    "prediction =model.predict(real_data)\r\n",
    "prediction=scaler.inverse_transform(prediction)\r\n",
    "print(f\"Prediction: {prediction[0][0]}\")"
   ]
  }
 ],
 "metadata": {
  "interpreter": {
   "hash": "ecf7356d36b2f5e5cc193cd81df47ccd3c2fa64f686d26341392ad36393cb84c"
  },
  "kernelspec": {
   "display_name": "Python 3.9.5 64-bit",
   "name": "python3"
  },
  "language_info": {
   "codemirror_mode": {
    "name": "ipython",
    "version": 3
   },
   "file_extension": ".py",
   "mimetype": "text/x-python",
   "name": "python",
   "nbconvert_exporter": "python",
   "pygments_lexer": "ipython3",
   "version": "3.9.5"
  },
  "orig_nbformat": 4
 },
 "nbformat": 4,
 "nbformat_minor": 2
}